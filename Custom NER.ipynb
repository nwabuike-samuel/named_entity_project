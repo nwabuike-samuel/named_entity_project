{
 "cells": [
  {
   "cell_type": "markdown",
   "metadata": {},
   "source": [
    "## Custom NER Implemetation on Résumé using spaCy"
   ]
  },
  {
   "cell_type": "code",
   "execution_count": 3,
   "metadata": {},
   "outputs": [],
   "source": [
    "import spacy\n",
    "import random\n",
    "import json\n",
    "import PyPDF2\n",
    "from spacy import displacy\n",
    "from spacy.training import Example\n",
    "\n",
    "nlp = spacy.load(\"en_core_web_sm\")"
   ]
  },
  {
   "cell_type": "markdown",
   "metadata": {},
   "source": [
    "##  Load Train Data (CV)"
   ]
  },
  {
   "cell_type": "code",
   "execution_count": 4,
   "metadata": {},
   "outputs": [
    {
     "name": "stdout",
     "output_type": "stream",
     "text": [
      "Number of pages: 3\n",
      "SAMUEL  U .   NWABUIKE   samuelunwabuike@gmail.com   |08088799405 , 09022756830   Greenfield Estate, Ago - Okota, Lagos , Nigeria .   www.linkedin.com/in/samuel - nwabuike     EDUCATION   Bachelor of Science:  Computer  Science   Covenant University, Ota, Ogun State      Member of Nigeria Association of Computer Science  Students ( NACOSS) , Covenant  University Chapter.     Expected by  August   2022   WORK EXPERIENCE      Associate  Product Manager |Sagefour   July 2021     Present   As a  PM  associate , I  helped   with organizing user stories and problem - solving.      My tasks involved listening to customers and suggesting how to improve  the  product.       rom  customers and working with the product owner to ensure the short - term product  strategies  we re being achieved.      Business Systems Analyst  ( Intern )   |DLVR Logistics Ltd.   May 2021     Present   As a system analyst, I was the link between the technical and  non - technical part s   of the team.      Gathered, outlined, and reviewed user requirements.      Conducted User Acceptance Test at different stages of development      Crafted diagrams and flowcharts outlining logical operational steps.      Developed and updated SOPs for Custo mer Support.   SKILLS        Agile Methodologies   and frameworks including   Scrum, and  Kaban.      Programming languages :  Python,  C, C++, C#, Java, HTML ,  CSS ,  JavaScript,   and SQL      Excellent  Work ethic , multitasking and problem - solving abilities.      People skill s ,  including   effective communication,  flexibility   and adaptability .      Leadership ,  Team player and Collaborator .   LEADERSHIP EXPERIENCE      President, NACOS, Covenant University         November 2021  -   Present      Assistant Course Representative, Computer  Science                                      20 20     P resent      Assistant Head, Project One Million Souls.           February 2021     Present      Assistant PRO, NACOSS ,  Covenant   University                                      February 2021      Present      Operations officer ,  Project One Million Souls                                                    2020      2021   \n"
     ]
    }
   ],
   "source": [
    "train_file_path = './resumes/ttrainCV1.pdf'\n",
    "\n",
    "with open(train_file_path, mode='rb') as f:\n",
    "    trainCv1 = PyPDF2.PdfFileReader(f)\n",
    "    numOfPages = trainCv1.getPage(0)\n",
    "    print(f\"Number of pages: {trainCv1.getNumPages()}\")\n",
    "    trainCv1 = numOfPages.extractText()\n",
    "    \n",
    "    trainCv1 = nlp(\" \".join(trainCv1.split('\\n')))\n",
    "    trainCv1 = str(trainCv1)\n",
    "    print(trainCv1)\n",
    "    \n",
    "    \n",
    "    #print(reader.getPage(0).extractText())"
   ]
  },
  {
   "cell_type": "code",
   "execution_count": 6,
   "metadata": {},
   "outputs": [
    {
     "data": {
      "text/html": [
       "<span class=\"tex2jax_ignore\"><div class=\"entities\" style=\"line-height: 2.5; direction: ltr\">SAMUEL  U .   NWABUIKE   samuelunwabuike@gmail.com   |08088799405 , \n",
       "<mark class=\"entity\" style=\"background: #bfe1d9; padding: 0.45em 0.6em; margin: 0 0.25em; line-height: 1; border-radius: 0.35em;\">\n",
       "    09022756830\n",
       "    <span style=\"font-size: 0.8em; font-weight: bold; line-height: 1; border-radius: 0.35em; vertical-align: middle; margin-left: 0.5rem\">DATE</span>\n",
       "</mark>\n",
       "   Greenfield Estate, \n",
       "<mark class=\"entity\" style=\"background: #aa9cfc; padding: 0.45em 0.6em; margin: 0 0.25em; line-height: 1; border-radius: 0.35em;\">\n",
       "    Ago - Okota\n",
       "    <span style=\"font-size: 0.8em; font-weight: bold; line-height: 1; border-radius: 0.35em; vertical-align: middle; margin-left: 0.5rem\">PERSON</span>\n",
       "</mark>\n",
       ", \n",
       "<mark class=\"entity\" style=\"background: #feca74; padding: 0.45em 0.6em; margin: 0 0.25em; line-height: 1; border-radius: 0.35em;\">\n",
       "    Lagos\n",
       "    <span style=\"font-size: 0.8em; font-weight: bold; line-height: 1; border-radius: 0.35em; vertical-align: middle; margin-left: 0.5rem\">GPE</span>\n",
       "</mark>\n",
       " , \n",
       "<mark class=\"entity\" style=\"background: #feca74; padding: 0.45em 0.6em; margin: 0 0.25em; line-height: 1; border-radius: 0.35em;\">\n",
       "    Nigeria\n",
       "    <span style=\"font-size: 0.8em; font-weight: bold; line-height: 1; border-radius: 0.35em; vertical-align: middle; margin-left: 0.5rem\">GPE</span>\n",
       "</mark>\n",
       " .   www.linkedin.com/in/samuel - nwabuike     EDUCATION   Bachelor of Science:  Computer  Science   Covenant University, Ota, \n",
       "<mark class=\"entity\" style=\"background: #7aecec; padding: 0.45em 0.6em; margin: 0 0.25em; line-height: 1; border-radius: 0.35em;\">\n",
       "    Ogun State      Member of Nigeria Association of Computer Science  Students\n",
       "    <span style=\"font-size: 0.8em; font-weight: bold; line-height: 1; border-radius: 0.35em; vertical-align: middle; margin-left: 0.5rem\">ORG</span>\n",
       "</mark>\n",
       " ( NACOSS) , \n",
       "<mark class=\"entity\" style=\"background: #7aecec; padding: 0.45em 0.6em; margin: 0 0.25em; line-height: 1; border-radius: 0.35em;\">\n",
       "    Covenant  University Chapter\n",
       "    <span style=\"font-size: 0.8em; font-weight: bold; line-height: 1; border-radius: 0.35em; vertical-align: middle; margin-left: 0.5rem\">ORG</span>\n",
       "</mark>\n",
       ".     Expected by  \n",
       "<mark class=\"entity\" style=\"background: #bfe1d9; padding: 0.45em 0.6em; margin: 0 0.25em; line-height: 1; border-radius: 0.35em;\">\n",
       "    August   2022\n",
       "    <span style=\"font-size: 0.8em; font-weight: bold; line-height: 1; border-radius: 0.35em; vertical-align: middle; margin-left: 0.5rem\">DATE</span>\n",
       "</mark>\n",
       "   WORK EXPERIENCE      Associate  Product Manager |Sagefour   \n",
       "<mark class=\"entity\" style=\"background: #bfe1d9; padding: 0.45em 0.6em; margin: 0 0.25em; line-height: 1; border-radius: 0.35em;\">\n",
       "    July 2021\n",
       "    <span style=\"font-size: 0.8em; font-weight: bold; line-height: 1; border-radius: 0.35em; vertical-align: middle; margin-left: 0.5rem\">DATE</span>\n",
       "</mark>\n",
       "     Present   As a  PM  associate , I  helped   with organizing user stories and problem - solving.      My tasks involved listening to customers and suggesting how to improve  the  product.       rom  customers and working with the product owner to ensure the short - term product  strategies  we re being achieved.      \n",
       "<mark class=\"entity\" style=\"background: #7aecec; padding: 0.45em 0.6em; margin: 0 0.25em; line-height: 1; border-radius: 0.35em;\">\n",
       "    Business Systems Analyst\n",
       "    <span style=\"font-size: 0.8em; font-weight: bold; line-height: 1; border-radius: 0.35em; vertical-align: middle; margin-left: 0.5rem\">ORG</span>\n",
       "</mark>\n",
       "  ( \n",
       "<mark class=\"entity\" style=\"background: #7aecec; padding: 0.45em 0.6em; margin: 0 0.25em; line-height: 1; border-radius: 0.35em;\">\n",
       "    Intern\n",
       "    <span style=\"font-size: 0.8em; font-weight: bold; line-height: 1; border-radius: 0.35em; vertical-align: middle; margin-left: 0.5rem\">ORG</span>\n",
       "</mark>\n",
       " )   |DLVR \n",
       "<mark class=\"entity\" style=\"background: #7aecec; padding: 0.45em 0.6em; margin: 0 0.25em; line-height: 1; border-radius: 0.35em;\">\n",
       "    Logistics Ltd.\n",
       "    <span style=\"font-size: 0.8em; font-weight: bold; line-height: 1; border-radius: 0.35em; vertical-align: middle; margin-left: 0.5rem\">ORG</span>\n",
       "</mark>\n",
       "   \n",
       "<mark class=\"entity\" style=\"background: #bfe1d9; padding: 0.45em 0.6em; margin: 0 0.25em; line-height: 1; border-radius: 0.35em;\">\n",
       "    May 2021\n",
       "    <span style=\"font-size: 0.8em; font-weight: bold; line-height: 1; border-radius: 0.35em; vertical-align: middle; margin-left: 0.5rem\">DATE</span>\n",
       "</mark>\n",
       "     Present   As a system analyst, I was the link between the technical and  non - technical part s   of the team.      Gathered, outlined, and reviewed user requirements.      Conducted User Acceptance Test at different stages of development      Crafted diagrams and flowcharts outlining logical operational steps.      Developed and updated SOPs for \n",
       "<mark class=\"entity\" style=\"background: #feca74; padding: 0.45em 0.6em; margin: 0 0.25em; line-height: 1; border-radius: 0.35em;\">\n",
       "    Custo\n",
       "    <span style=\"font-size: 0.8em; font-weight: bold; line-height: 1; border-radius: 0.35em; vertical-align: middle; margin-left: 0.5rem\">GPE</span>\n",
       "</mark>\n",
       " mer Support.   SKILLS        Agile Methodologies   and frameworks including   \n",
       "<mark class=\"entity\" style=\"background: #bfeeb7; padding: 0.45em 0.6em; margin: 0 0.25em; line-height: 1; border-radius: 0.35em;\">\n",
       "    Scrum\n",
       "    <span style=\"font-size: 0.8em; font-weight: bold; line-height: 1; border-radius: 0.35em; vertical-align: middle; margin-left: 0.5rem\">PRODUCT</span>\n",
       "</mark>\n",
       ", and  \n",
       "<mark class=\"entity\" style=\"background: #aa9cfc; padding: 0.45em 0.6em; margin: 0 0.25em; line-height: 1; border-radius: 0.35em;\">\n",
       "    Kaban\n",
       "    <span style=\"font-size: 0.8em; font-weight: bold; line-height: 1; border-radius: 0.35em; vertical-align: middle; margin-left: 0.5rem\">PERSON</span>\n",
       "</mark>\n",
       ".      Programming languages :  Python,  C, \n",
       "<mark class=\"entity\" style=\"background: #feca74; padding: 0.45em 0.6em; margin: 0 0.25em; line-height: 1; border-radius: 0.35em;\">\n",
       "    C++\n",
       "    <span style=\"font-size: 0.8em; font-weight: bold; line-height: 1; border-radius: 0.35em; vertical-align: middle; margin-left: 0.5rem\">GPE</span>\n",
       "</mark>\n",
       ", C#, \n",
       "<mark class=\"entity\" style=\"background: #aa9cfc; padding: 0.45em 0.6em; margin: 0 0.25em; line-height: 1; border-radius: 0.35em;\">\n",
       "    Java\n",
       "    <span style=\"font-size: 0.8em; font-weight: bold; line-height: 1; border-radius: 0.35em; vertical-align: middle; margin-left: 0.5rem\">PERSON</span>\n",
       "</mark>\n",
       ", HTML ,  CSS ,  JavaScript,   and \n",
       "<mark class=\"entity\" style=\"background: #7aecec; padding: 0.45em 0.6em; margin: 0 0.25em; line-height: 1; border-radius: 0.35em;\">\n",
       "    SQL      Excellent  Work\n",
       "    <span style=\"font-size: 0.8em; font-weight: bold; line-height: 1; border-radius: 0.35em; vertical-align: middle; margin-left: 0.5rem\">ORG</span>\n",
       "</mark>\n",
       " ethic , multitasking and problem - solving abilities.      People skill s ,  including   effective communication,  flexibility   and adaptability .      Leadership ,  Team player and \n",
       "<mark class=\"entity\" style=\"background: #7aecec; padding: 0.45em 0.6em; margin: 0 0.25em; line-height: 1; border-radius: 0.35em;\">\n",
       "    Collaborator\n",
       "    <span style=\"font-size: 0.8em; font-weight: bold; line-height: 1; border-radius: 0.35em; vertical-align: middle; margin-left: 0.5rem\">ORG</span>\n",
       "</mark>\n",
       " .   LEADERSHIP EXPERIENCE      President, \n",
       "<mark class=\"entity\" style=\"background: #7aecec; padding: 0.45em 0.6em; margin: 0 0.25em; line-height: 1; border-radius: 0.35em;\">\n",
       "    NACOS\n",
       "    <span style=\"font-size: 0.8em; font-weight: bold; line-height: 1; border-radius: 0.35em; vertical-align: middle; margin-left: 0.5rem\">ORG</span>\n",
       "</mark>\n",
       ", \n",
       "<mark class=\"entity\" style=\"background: #7aecec; padding: 0.45em 0.6em; margin: 0 0.25em; line-height: 1; border-radius: 0.35em;\">\n",
       "    Covenant University         \n",
       "    <span style=\"font-size: 0.8em; font-weight: bold; line-height: 1; border-radius: 0.35em; vertical-align: middle; margin-left: 0.5rem\">ORG</span>\n",
       "</mark>\n",
       "\n",
       "<mark class=\"entity\" style=\"background: #bfe1d9; padding: 0.45em 0.6em; margin: 0 0.25em; line-height: 1; border-radius: 0.35em;\">\n",
       "    November 2021\n",
       "    <span style=\"font-size: 0.8em; font-weight: bold; line-height: 1; border-radius: 0.35em; vertical-align: middle; margin-left: 0.5rem\">DATE</span>\n",
       "</mark>\n",
       "  -   Present      Assistant Course Representative, \n",
       "<mark class=\"entity\" style=\"background: #7aecec; padding: 0.45em 0.6em; margin: 0 0.25em; line-height: 1; border-radius: 0.35em;\">\n",
       "    Computer  Science                                      \n",
       "    <span style=\"font-size: 0.8em; font-weight: bold; line-height: 1; border-radius: 0.35em; vertical-align: middle; margin-left: 0.5rem\">ORG</span>\n",
       "</mark>\n",
       "20 20     P resent      Assistant Head, \n",
       "<mark class=\"entity\" style=\"background: #7aecec; padding: 0.45em 0.6em; margin: 0 0.25em; line-height: 1; border-radius: 0.35em;\">\n",
       "    Project One Million Souls\n",
       "    <span style=\"font-size: 0.8em; font-weight: bold; line-height: 1; border-radius: 0.35em; vertical-align: middle; margin-left: 0.5rem\">ORG</span>\n",
       "</mark>\n",
       ".           \n",
       "<mark class=\"entity\" style=\"background: #bfe1d9; padding: 0.45em 0.6em; margin: 0 0.25em; line-height: 1; border-radius: 0.35em;\">\n",
       "    February 2021\n",
       "    <span style=\"font-size: 0.8em; font-weight: bold; line-height: 1; border-radius: 0.35em; vertical-align: middle; margin-left: 0.5rem\">DATE</span>\n",
       "</mark>\n",
       "     Present      Assistant PRO, \n",
       "<mark class=\"entity\" style=\"background: #7aecec; padding: 0.45em 0.6em; margin: 0 0.25em; line-height: 1; border-radius: 0.35em;\">\n",
       "    NACOSS\n",
       "    <span style=\"font-size: 0.8em; font-weight: bold; line-height: 1; border-radius: 0.35em; vertical-align: middle; margin-left: 0.5rem\">ORG</span>\n",
       "</mark>\n",
       " ,  Covenant   University                                      \n",
       "<mark class=\"entity\" style=\"background: #bfe1d9; padding: 0.45em 0.6em; margin: 0 0.25em; line-height: 1; border-radius: 0.35em;\">\n",
       "    February 2021\n",
       "    <span style=\"font-size: 0.8em; font-weight: bold; line-height: 1; border-radius: 0.35em; vertical-align: middle; margin-left: 0.5rem\">DATE</span>\n",
       "</mark>\n",
       "      Present      Operations officer ,  Project One Million Souls                                                    \n",
       "<mark class=\"entity\" style=\"background: #bfe1d9; padding: 0.45em 0.6em; margin: 0 0.25em; line-height: 1; border-radius: 0.35em;\">\n",
       "    2020\n",
       "    <span style=\"font-size: 0.8em; font-weight: bold; line-height: 1; border-radius: 0.35em; vertical-align: middle; margin-left: 0.5rem\">DATE</span>\n",
       "</mark>\n",
       "      2021   </div></span>"
      ],
      "text/plain": [
       "<IPython.core.display.HTML object>"
      ]
     },
     "metadata": {},
     "output_type": "display_data"
    }
   ],
   "source": [
    "from spacy import displacy\n",
    "\n",
    "trainCv1 = nlp(trainCv1)\n",
    "\n",
    "displacy.render(trainCv1,jupyter=True, style = \"ent\")"
   ]
  },
  {
   "cell_type": "markdown",
   "metadata": {},
   "source": [
    "## Load Test Data"
   ]
  },
  {
   "cell_type": "code",
   "execution_count": 11,
   "metadata": {
    "scrolled": true
   },
   "outputs": [
    {
     "name": "stdout",
     "output_type": "stream",
     "text": [
      "Number of pages: 2\n",
      "  LAURETTA U   NDU - KANEBI   +234 816 763 6683     laurettandukanebi@gmail.com            Abuja, Nigeria                                                                                                                                                                                  PROFILE   Knowledgeable and innovative Computer Science graduate with 4     in project administration. Interpersonal skills with the  proven ability to work with teams and collaborate to achieve organisational goals excellently. Committed to growing professio nally while  contributing to the organisation focused on operational effic iency.     TECHNICAL   SKILLS        MS Office Suites     Excel, Word, PowerPoint and Outlook , Project     EXPERTISE     Resource Coordination    Project Management   Financial Management    Record Keeping    Customer Service    Fund & Accountability Tracking   Project Support   SKILLS    Multitasking     Time Management     Strategic Planning     Leadership Skills    Organized    Detail Oriented    Communication (Oral/Written)   ATTRIBUTES    Learning new skills     Proactive     Punctuality    Professionalism    Responsible    Matur e     WORK EXPERIENCE     Daniel Model Academy         Project  Administrator         October 2020     April 2021      Provided day - to - day administrative support to staff,  students and parents through distribution of correspondence, calendars and  reports.      Managed financial budget of student events such as Field trips, uniforms, ticket sales, etc. Ensuring compliance with financi al  and administrative requirements.      Maximised p roductivity by ensuring adequate levels of office supplies.      Maintained inventory of supplies and materials ( e . g.   f orms , stationery, uniforms) to ensure availability.      Maintained efficient workflow, providing high - quality administrative support  through photocopying, scanning, maintaining  diaries and handling correspondence.      Responsible for filing and archiving of all operational documents per operation for easy access and referencing.      Gathered documents and budgets for management and executive st aff meetings and events.      Assist ed   Project Manager on the day to day project activities as required.      Facilitated efficient classroom management, creating and maintaining accurate class lists in Microsoft Excel.     St. John Vianney Catholic Church     Project Off icer         January 2019     October 2019      Operated phone system, screening phone calls, inquiries and requests.      Perform ed   general administrative office duties (i.e.   mail distribution, filing, reporting, reconciling invoices, data entry)      Worked as an active contributor to lead and support a wide range of activities from everyday financial needs including review ing  and processing invoices, bills, and documents.      Maintai ned schedules and oversaw appointments.      Wrote and prepared reports and correspondence from dictation and handwritten notes.      Maintained office system, including data management and filing.      Met incoming visitors and provided friendly, knowledgeable assistanc e.      Organised and scheduled meetings.      Implemented, administered and contributed to planning systems and procedures to meet the business requirements such as  monitoring and ensuring that all accounts are up to date.      Handled financial duties which involved pr eparing monthly budgets, cash forecasting as well as project monthly finance reports  for review.      Assisted with the processing of billing statements and invoices.       \n"
     ]
    }
   ],
   "source": [
    "test_file_path = './resumes/testCV1.pdf'\n",
    "\n",
    "with open(test_file_path, mode='rb') as f:\n",
    "    testCv1 = PyPDF2.PdfFileReader(f)\n",
    "    numOfPages = testCv1.getPage(0)\n",
    "    print(f\"Number of pages: {testCv1.getNumPages()}\")\n",
    "    testCv1 = numOfPages.extractText()\n",
    "    testCv1 = nlp(\" \".join(testCv1.split('\\n')))\n",
    "    testCv1 = str(testCv1)\n",
    "    print(testCv1)\n",
    "    \n",
    "TEST_DATA = testCv1\n",
    "\n"
   ]
  },
  {
   "cell_type": "markdown",
   "metadata": {},
   "source": [
    "test3_file_path = './resumes/testCV3.pdf'\n",
    "\n",
    "with open(test3_file_path, mode='rb') as f:\n",
    "    testCv3 = PyPDF2.PdfFileReader(f)\n",
    "    numOfPages = testCv3.getPage(0)\n",
    "    print(f\"Number of pages: {testCv3.getNumPages()}\")\n",
    "    testCv3 = numOfPages.extractText()\n",
    "    print(testCv3)\n",
    "    testCv3 = nlp(\" \".join(testCv3.split('\\n')))\n",
    "    testCv3 = str(testCv3)\n",
    "    print(testCv3)\n",
    "    \n",
    "TEST_DATA3 = testCv3\n",
    "\n"
   ]
  },
  {
   "cell_type": "markdown",
   "metadata": {},
   "source": [
    "## Format Train Data"
   ]
  },
  {
   "cell_type": "code",
   "execution_count": 8,
   "metadata": {},
   "outputs": [
    {
     "name": "stdout",
     "output_type": "stream",
     "text": [
      "[['SAMUEL  U .', {'entities': []}], ['  NWABUIKE   samuelunwabuike@gmail.com   |08088799405 , 09022756830   Greenfield Estate, Ago - Okota, Lagos , Nigeria .', {'entities': [[102, 117, 'LOCATION']]}], ['  www.linkedin.com/in/samuel - nwabuike     EDUCATION   Bachelor of Science:  Computer  Science   Covenant University, Ota, Ogun State      Member of Nigeria Association of Computer Science  Students ( NACOSS) , Covenant  University Chapter.', {'entities': [[98, 117, 'COLLEGE NAME'], [150, 157, 'LOCATION']]}], ['    Expected by  August   2022   WORK EXPERIENCE      Associate  Product Manager |Sagefour   July 2021     Present   As a  PM  associate , I  helped   with organizing user stories and problem - solving.', {'entities': [[65, 80, 'POSITION']]}], ['     My tasks involved listening to customers and suggesting how to improve  the  product.', {'entities': []}], ['      rom  customers and working with the product owner to ensure the short - term product  strategies  we re being achieved.', {'entities': []}], ['     Business Systems Analyst  ( Intern )   |DLVR Logistics Ltd.   May 2021     Present   As a system analyst, I was the link between the technical and  non - technical part s   of the team.', {'entities': []}], ['     Gathered, outlined, and reviewed user requirements.', {'entities': []}], ['     Conducted User Acceptance Test at different stages of development      Crafted diagrams and flowcharts outlining logical operational steps.', {'entities': []}], ['     Developed and updated SOPs for Custo mer Support.', {'entities': []}], ['  SKILLS        Agile Methodologies   and frameworks including   Scrum, and  Kaban.', {'entities': [[65, 70, 'SKILLS']]}], ['     Programming languages :  Python,  C, C++, C#, Java, HTML ,  CSS ,  JavaScript,   and SQL      Excellent  Work ethic , multitasking and problem - solving abilities.', {'entities': [[5, 16, 'SKILLS'], [30, 36, 'SKILLS']]}], ['     People skill s ,  including   effective communication,  flexibility   and adaptability .', {'entities': []}], ['     Leadership ,  Team player and Collaborator .', {'entities': [[5, 15, 'SKILLS']]}], ['  LEADERSHIP EXPERIENCE      President, NACOS, Covenant University         November 2021  -   Present      Assistant Course Representative, Computer  Science                                      20 20     P resent      Assistant Head, Project One Million Souls.', {'entities': [[29, 38, 'POSITION'], [47, 66, 'COLLEGE NAME']]}], ['          February 2021     Present      Assistant PRO, NACOSS ,  Covenant   University                                      February 2021      Present      Operations officer ,  Project One Million Souls                                                    2020      2021   ', {'entities': []}]]\n"
     ]
    }
   ],
   "source": [
    "#Sample text\n",
    "text = trainCv1\n",
    "\n",
    "corpus = []\n",
    "\n",
    "doc = nlp(text)\n",
    "for sent in doc.sents:\n",
    "    corpus.append(sent.text)\n",
    "\n",
    "#Build upon the spaCy Small Model\n",
    "nlp = spacy.blank(\"en\")\n",
    "\n",
    "#Create the EntityRuler\n",
    "ruler = nlp.add_pipe(\"entity_ruler\")\n",
    "\n",
    "#List of Entities and Patterns\n",
    "patterns = [\n",
    "                {\"label\": \"NAME\", \"pattern\": \"GAYLE LAAKMANN\"},\n",
    "                {\"label\": \"NAME\", \"pattern\": \"Yaw Obeng\"},\n",
    "                {\"label\": \"NAME\", \"pattern\": \"SAMUEL U. NWABUIKE\"},\n",
    "               {\"label\": \"LOCATION\", \"pattern\": \"Philadelphia\"},\n",
    "                {\"label\": \"LOCATION\", \"pattern\": \"Accra-Ghana\"},\n",
    "                {\"label\": \"LOCATION\", \"pattern\": \"Nigeria\"},\n",
    "                {\"label\": \"LOCATION\", \"pattern\": \"Lagos, Nigeria\"},\n",
    "               {\"label\": \"DEGREE\", \"pattern\": \"Bachelor of Science and Engineering, Major in Computer Science Engineering, Minor in Mathematics\"},\n",
    "                {\"label\": \"DEGREE\", \"pattern\": \"Master of Science and Engineering, Computer and Information Science\"},\n",
    "                {\"label\": \"DEGREE\", \"pattern\": \"Bachelor of Science: Computer and Information Science\"},\n",
    "               {\"label\": \"COMPANIES WORKED AT\", \"pattern\": \"Microsoft Corporation\"},\n",
    "                {\"label\": \"COMPANIES WORKED AT\", \"pattern\": \"Apple Computer\"},\n",
    "                {\"label\": \"COMPANIES WORKED AT\", \"pattern\": \"Google\"},\n",
    "                {\"label\": \"COMPANIES WORKED AT\", \"pattern\": \"Sagefour\"},\n",
    "                {\"label\": \"COMPANIES WORKED AT\", \"pattern\": \"DLVR Logistics\"},\n",
    "                {\"label\": \"COMPANIES WORKED AT\", \"pattern\": \"University of Ghana, Computing Systems\"},\n",
    "                {\"label\": \"COMPANIES WORKED AT\", \"pattern\": \"Association of Chartered Certified Economists\"},\n",
    "                {\"label\": \"COMPANIES WORKED AT\", \"pattern\": \"Keenscreen\"},\n",
    "               {\"label\": \"COLLEGE NAME\", \"pattern\": \"University of Pennysylvania\"},\n",
    "                {\"label\": \"COLLEGE NAME\", \"pattern\": \"University of Ghana\"},\n",
    "                {\"label\": \"COLLEGE NAME\", \"pattern\": \"Covenant University\"},\n",
    "                {\"label\": \"COLLEGE NAME\", \"pattern\": \"The Wharton School, University of Pennysylvania\"},\n",
    "                   {\"label\": \"POSITION \", \"pattern\": \"Software Engineer\"},\n",
    "                {\"label\": \"POSITION\", \"pattern\": \"CEO\"},\n",
    "                {\"label\": \"POSITION\", \"pattern\": \"President\"},\n",
    "                {\"label\": \"POSITION\", \"pattern\": \"Peer Mentor\"},\n",
    "                {\"label\": \"POSITION\", \"pattern\": \"Product Manager\"},\n",
    "                {\"label\": \"POSITION\", \"pattern\": \"Business System Analyst\"},\n",
    "                {\"label\": \"POSITION\", \"pattern\": \"System Analyst\"},\n",
    "                {\"label\": \"POSITION\", \"pattern\": \"Sales Executive\"},\n",
    "                {\"label\": \"POSITION\", \"pattern\": \"Laboratory Assistant\"},\n",
    "                {\"label\": \"SKILLS\", \"pattern\": \"Python\"},\n",
    "                {\"label\": \"SKILLS\", \"pattern\": \"Programming\"},\n",
    "                {\"label\": \"SKILLS\", \"pattern\": \"Web Design\"},\n",
    "                {\"label\": \"SKILLS\", \"pattern\": \"customer service\"},\n",
    "                {\"label\": \"SKILLS\", \"pattern\": \"sales\"},\n",
    "                {\"label\": \"SKILLS\", \"pattern\": \"Leadership\"},\n",
    "                {\"label\": \"SKILLS\", \"pattern\": \"Scrum\"},\n",
    "                {\"label\": \"SKILLS\", \"pattern\": \"Web Development\"}\n",
    "            ]\n",
    "\n",
    "ruler.add_patterns(patterns)\n",
    "\n",
    "\n",
    "TRAIN_DATA = []\n",
    "\n",
    "#iterate over the corpus again\n",
    "for sentence in corpus:\n",
    "    doc = nlp(sentence)\n",
    "    \n",
    "    #remember, entities needs to be a dictionary in index 1 of the list, so it needs to be an empty list\n",
    "    entities = []\n",
    "    \n",
    "    #extract entities\n",
    "    for ent in doc.ents:\n",
    "\n",
    "        #appending to entities in the correct format\n",
    "        entities.append([ent.start_char, ent.end_char, ent.label_])\n",
    "        \n",
    "    TRAIN_DATA.append([sentence, {\"entities\": entities}])\n",
    "    \n",
    "VALID_DATA = TRAIN_DATA\n",
    "print (TRAIN_DATA)"
   ]
  },
  {
   "cell_type": "markdown",
   "metadata": {},
   "source": [
    "##  Convert to spaCy Format"
   ]
  },
  {
   "cell_type": "code",
   "execution_count": 9,
   "metadata": {},
   "outputs": [
    {
     "name": "stderr",
     "output_type": "stream",
     "text": [
      "100%|████████████████████████████████████████████████████████████████████████████████████| 16/16 [00:00<00:00, 133.16it/s]\n",
      "100%|████████████████████████████████████████████████████████████████████████████████████| 16/16 [00:00<00:00, 640.00it/s]\n"
     ]
    }
   ],
   "source": [
    "import pandas as pd\n",
    "from tqdm import tqdm\n",
    "import spacy\n",
    "from spacy.tokens import DocBin\n",
    "nlp = spacy.blank(\"en\") # load a new spacy model\n",
    "db = DocBin() # create a DocBin object\n",
    "\n",
    "for text, annot in tqdm(TRAIN_DATA): # data in previous format\n",
    "    doc = nlp.make_doc(text) # create doc object from text\n",
    "    ents = []\n",
    "    for start, end, label in annot[\"entities\"]: # add character indexes\n",
    "        span = doc.char_span(start, end, label=label, alignment_mode=\"contract\")\n",
    "        if span is None:\n",
    "            print(\"Skipping entity\")\n",
    "        else:\n",
    "            ents.append(span)\n",
    "    doc.ents = ents # label the text with the ents\n",
    "    db.add(doc)\n",
    "\n",
    "db.to_disk(\"./train.spacy\") # save the docbin object\n",
    "\n",
    "db = DocBin()\n",
    "for text, annot in tqdm(VALID_DATA): # data in previous format\n",
    "    doc = nlp.make_doc(text) # create doc object from text\n",
    "    ents = []\n",
    "    for start, end, label in annot[\"entities\"]: # add character indexes\n",
    "        span = doc.char_span(start, end, label=label, alignment_mode=\"contract\")\n",
    "        if span is None:\n",
    "            print(\"Skipping entity\")\n",
    "        else:\n",
    "            ents.append(span)\n",
    "    doc.ents = ents # label the text with the ents\n",
    "    db.add(doc)\n",
    "\n",
    "db.to_disk(\"./valid.spacy\") # save the docbin object"
   ]
  },
  {
   "cell_type": "code",
   "execution_count": null,
   "metadata": {},
   "outputs": [],
   "source": [
    "!python -m spacy init fill-config base_config.cfg config.cfg"
   ]
  },
  {
   "cell_type": "code",
   "execution_count": 7,
   "metadata": {
    "scrolled": true
   },
   "outputs": [
    {
     "name": "stdout",
     "output_type": "stream",
     "text": [
      "[i] Saving to output directory: training\n",
      "[i] Using CPU\n",
      "[x] Error parsing config section. Perhaps a section name is wrong?\n",
      "initialize -> components   Section 'initialize' is not defined\n",
      "\n",
      "{'paths': {'train': './train.spacy', 'dev': './valid.spacy', 'vectors': None, 'init_tok2vec': None}, 'system': {'gpu_allocator': None, 'seed': 0}, 'nlp': {'lang': 'en', 'pipeline': [], 'batch_size': 1000, 'disabled': [], 'before_creation': None, 'after_creation': None, 'after_pipeline_creation': None, 'tokenizer': {'@tokenizers': 'spacy.Tokenizer.v1'}}, 'components': {}, 'corpora': {'dev': {'@readers': 'spacy.Corpus.v1', 'path': '${paths.dev}', 'max_length': 0, 'gold_preproc': False, 'limit': 0, 'augmenter': None}, 'train': {'@readers': 'spacy.Corpus.v1', 'path': '${paths.train}', 'max_length': 0, 'gold_preproc': False, 'limit': 0, 'augmenter': None}}, 'training': {'dev_corpus': 'corpora.dev', 'train_corpus': 'corpora.train', 'seed': '${system.seed}', 'gpu_allocator': '${system.gpu_allocator}', 'dropout': 0.1, 'accumulate_gradient': 1, 'patience': 1600, 'max_epochs': 0, 'max_steps': 20000, 'eval_frequency': 200, 'frozen_components': [], 'annotating_components': [], 'before_to_disk': None, 'batcher': {'@batchers': 'spacy.batch_by_words.v1', 'discard_oversize': False, 'tolerance': 0.2, 'get_length': None}, 'logger': {'@loggers': 'spacy.ConsoleLogger.v1', 'progress_bar': False}, 'optimizer': {'@optimizers': 'Adam.v1', 'beta1': 0.9, 'beta2': 0.999, 'L2_is_weight_decay': True, 'L2': 0.01, 'grad_clip': 1.0, 'use_averages': False, 'eps': 1e-08, 'learn_rate': 0.001}, 'score_weights': {}}, 'pretraining': {}, 'resume_training': {'vectors': 'en_core_web_lg', 'init_tok2vec': '${paths.init_tok2vec}', 'vocab_data': None, 'lookups': None, 'before_init': None, 'after_init': None}}\n"
     ]
    },
    {
     "name": "stderr",
     "output_type": "stream",
     "text": [
      "[2022-01-28 12:56:33,002] [DEBUG] Config overrides from CLI: ['paths.train', 'paths.dev']\n"
     ]
    }
   ],
   "source": [
    "!python -m spacy train config.cfg --verbose --output ./training --paths.train ./train.spacy --paths.dev ./valid.spacy"
   ]
  },
  {
   "cell_type": "markdown",
   "metadata": {},
   "source": [
    "## Test Model"
   ]
  },
  {
   "cell_type": "code",
   "execution_count": 12,
   "metadata": {},
   "outputs": [
    {
     "name": "stdout",
     "output_type": "stream",
     "text": [
      "Abuja, Nigeria 91 105 LOCATION\n",
      "Excel 676 681 SKILLS\n",
      "Financial Management 786 806 COLLEGE NAME\n",
      "Accountability 855 869 SKILLS\n",
      "Leadership 969 979 SKILLS\n",
      "Implemented 3182 3193 SKILLS\n"
     ]
    },
    {
     "data": {
      "text/html": [
       "<span class=\"tex2jax_ignore\"><div class=\"entities\" style=\"line-height: 2.5; direction: ltr\">  LAURETTA U   NDU - KANEBI   +234 816 763 6683     laurettandukanebi@gmail.com            \n",
       "<mark class=\"entity\" style=\"background: #ddd; padding: 0.45em 0.6em; margin: 0 0.25em; line-height: 1; border-radius: 0.35em;\">\n",
       "    Abuja, Nigeria\n",
       "    <span style=\"font-size: 0.8em; font-weight: bold; line-height: 1; border-radius: 0.35em; vertical-align: middle; margin-left: 0.5rem\">LOCATION</span>\n",
       "</mark>\n",
       "                                                                                                                                                                                  PROFILE   Knowledgeable and innovative Computer Science graduate with 4     in project administration. Interpersonal skills with the  proven ability to work with teams and collaborate to achieve organisational goals excellently. Committed to growing professio nally while  contributing to the organisation focused on operational effic iency.     TECHNICAL   SKILLS        MS Office Suites     \n",
       "<mark class=\"entity\" style=\"background: #ddd; padding: 0.45em 0.6em; margin: 0 0.25em; line-height: 1; border-radius: 0.35em;\">\n",
       "    Excel\n",
       "    <span style=\"font-size: 0.8em; font-weight: bold; line-height: 1; border-radius: 0.35em; vertical-align: middle; margin-left: 0.5rem\">SKILLS</span>\n",
       "</mark>\n",
       ", Word, PowerPoint and Outlook , Project     EXPERTISE     Resource Coordination    Project Management   \n",
       "<mark class=\"entity\" style=\"background: #ddd; padding: 0.45em 0.6em; margin: 0 0.25em; line-height: 1; border-radius: 0.35em;\">\n",
       "    Financial Management\n",
       "    <span style=\"font-size: 0.8em; font-weight: bold; line-height: 1; border-radius: 0.35em; vertical-align: middle; margin-left: 0.5rem\">COLLEGE NAME</span>\n",
       "</mark>\n",
       "    Record Keeping    Customer Service    Fund &amp; \n",
       "<mark class=\"entity\" style=\"background: #ddd; padding: 0.45em 0.6em; margin: 0 0.25em; line-height: 1; border-radius: 0.35em;\">\n",
       "    Accountability\n",
       "    <span style=\"font-size: 0.8em; font-weight: bold; line-height: 1; border-radius: 0.35em; vertical-align: middle; margin-left: 0.5rem\">SKILLS</span>\n",
       "</mark>\n",
       " Tracking   Project Support   SKILLS    Multitasking     Time Management     Strategic Planning     \n",
       "<mark class=\"entity\" style=\"background: #ddd; padding: 0.45em 0.6em; margin: 0 0.25em; line-height: 1; border-radius: 0.35em;\">\n",
       "    Leadership\n",
       "    <span style=\"font-size: 0.8em; font-weight: bold; line-height: 1; border-radius: 0.35em; vertical-align: middle; margin-left: 0.5rem\">SKILLS</span>\n",
       "</mark>\n",
       " Skills    Organized    Detail Oriented    Communication (Oral/Written)   ATTRIBUTES    Learning new skills     Proactive     Punctuality    Professionalism    Responsible    Matur e     WORK EXPERIENCE     Daniel Model Academy         Project  Administrator         October 2020     April 2021      Provided day - to - day administrative support to staff,  students and parents through distribution of correspondence, calendars and  reports.      Managed financial budget of student events such as Field trips, uniforms, ticket sales, etc. Ensuring compliance with financi al  and administrative requirements.      Maximised p roductivity by ensuring adequate levels of office supplies.      Maintained inventory of supplies and materials ( e . g.   f orms , stationery, uniforms) to ensure availability.      Maintained efficient workflow, providing high - quality administrative support  through photocopying, scanning, maintaining  diaries and handling correspondence.      Responsible for filing and archiving of all operational documents per operation for easy access and referencing.      Gathered documents and budgets for management and executive st aff meetings and events.      Assist ed   Project Manager on the day to day project activities as required.      Facilitated efficient classroom management, creating and maintaining accurate class lists in Microsoft Excel.     St. John Vianney Catholic Church     Project Off icer         January 2019     October 2019      Operated phone system, screening phone calls, inquiries and requests.      Perform ed   general administrative office duties (i.e.   mail distribution, filing, reporting, reconciling invoices, data entry)      Worked as an active contributor to lead and support a wide range of activities from everyday financial needs including review ing  and processing invoices, bills, and documents.      Maintai ned schedules and oversaw appointments.      Wrote and prepared reports and correspondence from dictation and handwritten notes.      Maintained office system, including data management and filing.      Met incoming visitors and provided friendly, knowledgeable assistanc e.      Organised and scheduled meetings.      \n",
       "<mark class=\"entity\" style=\"background: #ddd; padding: 0.45em 0.6em; margin: 0 0.25em; line-height: 1; border-radius: 0.35em;\">\n",
       "    Implemented\n",
       "    <span style=\"font-size: 0.8em; font-weight: bold; line-height: 1; border-radius: 0.35em; vertical-align: middle; margin-left: 0.5rem\">SKILLS</span>\n",
       "</mark>\n",
       ", administered and contributed to planning systems and procedures to meet the business requirements such as  monitoring and ensuring that all accounts are up to date.      Handled financial duties which involved pr eparing monthly budgets, cash forecasting as well as project monthly finance reports  for review.      Assisted with the processing of billing statements and invoices.       </div></span>"
      ],
      "text/plain": [
       "<IPython.core.display.HTML object>"
      ]
     },
     "metadata": {},
     "output_type": "display_data"
    }
   ],
   "source": [
    "ner = spacy.load(\"./training/model-best\") #load the best model\n",
    "\n",
    "doc = ner(TEST_DATA)\n",
    "for ent in doc.ents:\n",
    "    print(ent.text, ent.start_char, ent.end_char, ent.label_)\n",
    "displacy.render(doc,jupyter=True, style = \"ent\")"
   ]
  },
  {
   "cell_type": "markdown",
   "metadata": {},
   "source": [
    "ner = spacy.load(\"./training/model-best\") #load the best model\n",
    "\n",
    "doc = ner(TEST_DATA2)\n",
    "for ent in doc.ents:\n",
    "    print(ent.text, ent.start_char, ent.end_char, ent.label_)\n",
    "displacy.render(doc,jupyter=True, style = \"ent\")"
   ]
  },
  {
   "cell_type": "code",
   "execution_count": null,
   "metadata": {},
   "outputs": [],
   "source": []
  }
 ],
 "metadata": {
  "kernelspec": {
   "display_name": "Python 3",
   "language": "python",
   "name": "python3"
  },
  "language_info": {
   "codemirror_mode": {
    "name": "ipython",
    "version": 3
   },
   "file_extension": ".py",
   "mimetype": "text/x-python",
   "name": "python",
   "nbconvert_exporter": "python",
   "pygments_lexer": "ipython3",
   "version": "3.8.5"
  }
 },
 "nbformat": 4,
 "nbformat_minor": 4
}
